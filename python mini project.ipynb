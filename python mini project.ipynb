{
 "cells": [
  {
   "cell_type": "code",
   "execution_count": 1,
   "id": "871657ac",
   "metadata": {},
   "outputs": [],
   "source": [
    "#QUESTIONS FOR QUIZ\n",
    "Q1=\"\"\"Q1: lightning is seen before it’s heard because light travels faster than sound\n",
    "a. True\n",
    "b. False\"\"\"\n",
    "Q2=\"\"\"Q2: Marvel published its first comic in October 1939\n",
    "a. True \n",
    "b. False\"\"\"\n",
    "Q3=\"\"\"Q3: The skull is the strongest bone in the human body.\n",
    "a. True \n",
    "b. False\"\"\"\n",
    "Q4=\"\"\"Q4: Mercury’s atmosphere is made up of Carbon Dioxide\n",
    "a. True \n",
    "b. False\"\"\"\n",
    "Q5=\"\"\"Q5: The Harry Potter film, Chamber of Secrets, is the longest film of the Harry Potter movies\n",
    "a. True \n",
    "b. False\"\"\"\n",
    "questions={Q1:\"a\",Q2:\"a\",Q3:\"b\",Q4:\"b\",Q5:\"a\"}\n",
    "name=input(\"Enter your name \")\n",
    "print(\"Hello\",name,\"welcome to the quiz with random questions\")\n",
    "print(\"Answer the following Questions in True or False format\")\n",
    "score=0\n",
    "for i in questions:\n",
    "    print(i)\n",
    "    ans=input(\"Enter the correct option(a or b):\")\n",
    "    if ans==questions[i]:\n",
    "        print(\"RIGHT ANS ,congratulations, 1 point is added\")\n",
    "        score=score+1\n",
    "    else:\n",
    "        print(\"WRONG ANSWER\")\n",
    "print(\"Final result is:\",score)"
   ]
  },
  {
   "cell_type": "code",
   "execution_count": null,
   "id": "a6d4a424",
   "metadata": {},
   "outputs": [],
   "source": []
  },
  {
   "cell_type": "code",
   "execution_count": null,
   "id": "d7756041",
   "metadata": {},
   "outputs": [],
   "source": []
  },
  {
   "cell_type": "code",
   "execution_count": null,
   "id": "eb063f24",
   "metadata": {},
   "outputs": [],
   "source": []
  },
  {
   "cell_type": "code",
   "execution_count": null,
   "id": "38b10e71",
   "metadata": {},
   "outputs": [],
   "source": []
  },
  {
   "cell_type": "code",
   "execution_count": null,
   "id": "88ab30ca",
   "metadata": {},
   "outputs": [],
   "source": []
  },
  {
   "cell_type": "code",
   "execution_count": null,
   "id": "8f5f0d4d",
   "metadata": {},
   "outputs": [],
   "source": []
  },
  {
   "cell_type": "code",
   "execution_count": null,
   "id": "0c1763fe",
   "metadata": {},
   "outputs": [],
   "source": []
  },
  {
   "cell_type": "code",
   "execution_count": null,
   "id": "d16f29c7",
   "metadata": {},
   "outputs": [],
   "source": [
    " "
   ]
  },
  {
   "cell_type": "code",
   "execution_count": null,
   "id": "5b731dfb",
   "metadata": {},
   "outputs": [],
   "source": []
  }
 ],
 "metadata": {
  "kernelspec": {
   "display_name": "Python 3.9.13 ('base')",
   "language": "python",
   "name": "python3"
  },
  "language_info": {
   "codemirror_mode": {
    "name": "ipython",
    "version": 3
   },
   "file_extension": ".py",
   "mimetype": "text/x-python",
   "name": "python",
   "nbconvert_exporter": "python",
   "pygments_lexer": "ipython3",
   "version": "3.9.13"
  },
  "vscode": {
   "interpreter": {
    "hash": "6a3f4cb4dec661377f95346190b0ae1884f28c0e9a18077ad24fc5444d7fd5ae"
   }
  }
 },
 "nbformat": 4,
 "nbformat_minor": 5
}
